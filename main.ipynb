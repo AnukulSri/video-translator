{
 "cells": [
  {
   "cell_type": "code",
   "execution_count": 1,
   "metadata": {},
   "outputs": [],
   "source": [
    "import moviepy.editor as mp\n",
    "import speech_recognition as sr\n",
    "from googletrans import Translator\n",
    "from gtts import gTTS\n",
    "from pydub import AudioSegment"
   ]
  },
  {
   "cell_type": "code",
   "execution_count": 1,
   "metadata": {},
   "outputs": [
    {
     "name": "stdout",
     "output_type": "stream",
     "text": [
      "Extracting audio from video...\n",
      "MoviePy - Writing audio in temp_audio.wav\n"
     ]
    },
    {
     "name": "stderr",
     "output_type": "stream",
     "text": [
      "                                                                      \r"
     ]
    },
    {
     "name": "stdout",
     "output_type": "stream",
     "text": [
      "MoviePy - Done.\n",
      "Transcribing audio...\n",
      "Translating text to Hindi...\n",
      "Converting text to Hindi speech...\n",
      "Combining Hindi audio with video...\n",
      "Moviepy - Building video output_video_in_hindi.mp4.\n",
      "MoviePy - Writing audio in output_video_in_hindiTEMP_MPY_wvf_snd.mp4\n"
     ]
    },
    {
     "name": "stderr",
     "output_type": "stream",
     "text": [
      "                                                                      \r"
     ]
    },
    {
     "name": "stdout",
     "output_type": "stream",
     "text": [
      "MoviePy - Done.\n",
      "Moviepy - Writing video output_video_in_hindi.mp4\n",
      "\n"
     ]
    },
    {
     "name": "stderr",
     "output_type": "stream",
     "text": [
      "                                                                \r"
     ]
    },
    {
     "name": "stdout",
     "output_type": "stream",
     "text": [
      "Moviepy - Done !\n",
      "Moviepy - video ready output_video_in_hindi.mp4\n",
      "Conversion complete! Saved as output_video_in_hindi.mp4\n"
     ]
    }
   ],
   "source": [
    "def extract_audio(video_file):\n",
    "    \"\"\"Extract audio from video file.\"\"\"\n",
    "    video = mp.VideoFileClip(video_file)\n",
    "    video.audio.write_audiofile(\"temp_audio.wav\")\n",
    "\n",
    "def transcribe_audio(audio_file):\n",
    "    \"\"\"Transcribe English audio to text using Google Speech Recognition.\"\"\"\n",
    "    recognizer = sr.Recognizer()\n",
    "    with sr.AudioFile(audio_file) as source:\n",
    "        audio_data = recognizer.record(source)\n",
    "        try:\n",
    "            return recognizer.recognize_google(audio_data)\n",
    "        except sr.UnknownValueError:\n",
    "            print(\"Speech Recognition could not understand the audio\")\n",
    "        except sr.RequestError as e:\n",
    "            print(f\"Could not request results; {e}\")\n",
    "    return \"\"\n",
    "\n",
    "def translate_text(text, target_language='hi'):\n",
    "    \"\"\"Translate English text to Hindi.\"\"\"\n",
    "    translator = Translator()\n",
    "    translation = translator.translate(text, dest=target_language)\n",
    "    return translation.text\n",
    "\n",
    "def text_to_speech(text, output_file):\n",
    "    \"\"\"Convert Hindi text to speech.\"\"\"\n",
    "    tts = gTTS(text=text, lang='hi')\n",
    "    tts.save(output_file)\n",
    "\n",
    "def combine_audio_with_video(video_file, audio_file, output_video_file):\n",
    "    \"\"\"Combine translated Hindi audio with original video.\"\"\"\n",
    "    video = mp.VideoFileClip(video_file)\n",
    "    audio = mp.AudioFileClip(audio_file)\n",
    "    video = video.set_audio(audio)\n",
    "    video.write_videofile(output_video_file, audio_codec='aac')\n",
    "\n",
    "def convert_video_to_hindi(video_file, output_video_file):\n",
    "    # Step 1: Extract Audio\n",
    "    print(\"Extracting audio from video...\")\n",
    "    extract_audio(video_file)\n",
    "\n",
    "    # Step 2: Transcribe Audio\n",
    "    print(\"Transcribing audio...\")\n",
    "    english_text = transcribe_audio(\"temp_audio.wav\")\n",
    "\n",
    "    # Step 3: Translate Text\n",
    "    print(\"Translating text to Hindi...\")\n",
    "    hindi_text = translate_text(english_text)\n",
    "\n",
    "    # Step 4: Convert Translated Text to Hindi Audio\n",
    "    print(\"Converting text to Hindi speech...\")\n",
    "    text_to_speech(hindi_text, \"hindi_audio.mp3\")\n",
    "\n",
    "    # Step 5: Combine the Hindi Audio with the Original Video\n",
    "    print(\"Combining Hindi audio with video...\")\n",
    "    combine_audio_with_video(video_file, \"hindi_audio.mp3\", output_video_file)\n",
    "\n",
    "    print(f\"Conversion complete! Saved as {output_video_file}\")\n",
    "\n",
    "# Example usage\n",
    "video_file = \"Just Change Your Approach.mp4\"  # Replace with your video file\n",
    "output_video_file = \"output_video_in_hindi.mp4\"\n",
    "convert_video_to_hindi(video_file, output_video_file)\n"
   ]
  }
 ],
 "metadata": {
  "kernelspec": {
   "display_name": "base",
   "language": "python",
   "name": "python3"
  },
  "language_info": {
   "codemirror_mode": {
    "name": "ipython",
    "version": 3
   },
   "file_extension": ".py",
   "mimetype": "text/x-python",
   "name": "python",
   "nbconvert_exporter": "python",
   "pygments_lexer": "ipython3",
   "version": "3.9.12"
  }
 },
 "nbformat": 4,
 "nbformat_minor": 2
}
